{
 "cells": [
  {
   "cell_type": "code",
   "execution_count": 1,
   "id": "15d3ac81-2c66-422b-ae47-70035893a8eb",
   "metadata": {},
   "outputs": [],
   "source": [
    "import glob\n",
    "import json\n",
    "import pandas as pd\n",
    "import matplotlib.pyplot as plt"
   ]
  },
  {
   "cell_type": "code",
   "execution_count": 2,
   "id": "822373ba-a0c3-4bb6-85d1-945d9cd93ae8",
   "metadata": {},
   "outputs": [],
   "source": [
    "def read_results():\n",
    "    dfs = []\n",
    "    for fn in glob.glob('results/*.json'):\n",
    "        dfs.append(pd.read_json(fn, lines=True))\n",
    "    return pd.concat(dfs)\n",
    "df = read_results()"
   ]
  },
  {
   "cell_type": "code",
   "execution_count": 3,
   "id": "3db338e7-5179-4e40-9c3e-4fbe19f39be7",
   "metadata": {},
   "outputs": [
    {
     "data": {
      "text/html": [
       "<div>\n",
       "<style scoped>\n",
       "    .dataframe tbody tr th:only-of-type {\n",
       "        vertical-align: middle;\n",
       "    }\n",
       "\n",
       "    .dataframe tbody tr th {\n",
       "        vertical-align: top;\n",
       "    }\n",
       "\n",
       "    .dataframe thead th {\n",
       "        text-align: right;\n",
       "    }\n",
       "</style>\n",
       "<table border=\"1\" class=\"dataframe\">\n",
       "  <thead>\n",
       "    <tr style=\"text-align: right;\">\n",
       "      <th></th>\n",
       "      <th>solver</th>\n",
       "      <th>solution</th>\n",
       "      <th>optimal</th>\n",
       "      <th>time</th>\n",
       "      <th>problem</th>\n",
       "      <th>times</th>\n",
       "      <th>machines</th>\n",
       "      <th>ortools_best</th>\n",
       "      <th>epoch</th>\n",
       "    </tr>\n",
       "  </thead>\n",
       "  <tbody>\n",
       "    <tr>\n",
       "      <th>0</th>\n",
       "      <td>ortools_benchmark</td>\n",
       "      <td>55</td>\n",
       "      <td>True</td>\n",
       "      <td>0.012517</td>\n",
       "      <td>taillard_ft_06</td>\n",
       "      <td>6</td>\n",
       "      <td>6</td>\n",
       "      <td>NaN</td>\n",
       "      <td>NaN</td>\n",
       "    </tr>\n",
       "    <tr>\n",
       "      <th>0</th>\n",
       "      <td>ortools_benchmark</td>\n",
       "      <td>930</td>\n",
       "      <td>True</td>\n",
       "      <td>2.418531</td>\n",
       "      <td>taillard_ft_10</td>\n",
       "      <td>10</td>\n",
       "      <td>10</td>\n",
       "      <td>NaN</td>\n",
       "      <td>NaN</td>\n",
       "    </tr>\n",
       "    <tr>\n",
       "      <th>0</th>\n",
       "      <td>demo_mealpy_bv</td>\n",
       "      <td>101</td>\n",
       "      <td>NaN</td>\n",
       "      <td>0.667532</td>\n",
       "      <td>taillard_ft_06</td>\n",
       "      <td>6</td>\n",
       "      <td>6</td>\n",
       "      <td>55.0</td>\n",
       "      <td>[101.0, 101.0, 101.0]</td>\n",
       "    </tr>\n",
       "    <tr>\n",
       "      <th>0</th>\n",
       "      <td>demo_mealpy_bv</td>\n",
       "      <td>2795</td>\n",
       "      <td>NaN</td>\n",
       "      <td>6.014715</td>\n",
       "      <td>taillard_ft_10</td>\n",
       "      <td>10</td>\n",
       "      <td>10</td>\n",
       "      <td>930.0</td>\n",
       "      <td>[3239.0, 3239.0, 2795.0]</td>\n",
       "    </tr>\n",
       "    <tr>\n",
       "      <th>0</th>\n",
       "      <td>demo_mealpy_bv</td>\n",
       "      <td>4198</td>\n",
       "      <td>NaN</td>\n",
       "      <td>5.848228</td>\n",
       "      <td>taillard_abz_5</td>\n",
       "      <td>10</td>\n",
       "      <td>10</td>\n",
       "      <td>1234.0</td>\n",
       "      <td>[4198.0, 4198.0, 4198.0]</td>\n",
       "    </tr>\n",
       "    <tr>\n",
       "      <th>0</th>\n",
       "      <td>ortools_benchmark</td>\n",
       "      <td>1234</td>\n",
       "      <td>True</td>\n",
       "      <td>1.228277</td>\n",
       "      <td>taillard_abz_5</td>\n",
       "      <td>10</td>\n",
       "      <td>10</td>\n",
       "      <td>NaN</td>\n",
       "      <td>NaN</td>\n",
       "    </tr>\n",
       "  </tbody>\n",
       "</table>\n",
       "</div>"
      ],
      "text/plain": [
       "              solver  solution optimal      time         problem  times  \\\n",
       "0  ortools_benchmark        55    True  0.012517  taillard_ft_06      6   \n",
       "0  ortools_benchmark       930    True  2.418531  taillard_ft_10     10   \n",
       "0     demo_mealpy_bv       101     NaN  0.667532  taillard_ft_06      6   \n",
       "0     demo_mealpy_bv      2795     NaN  6.014715  taillard_ft_10     10   \n",
       "0     demo_mealpy_bv      4198     NaN  5.848228  taillard_abz_5     10   \n",
       "0  ortools_benchmark      1234    True  1.228277  taillard_abz_5     10   \n",
       "\n",
       "   machines  ortools_best                     epoch  \n",
       "0         6           NaN                       NaN  \n",
       "0        10           NaN                       NaN  \n",
       "0         6          55.0     [101.0, 101.0, 101.0]  \n",
       "0        10         930.0  [3239.0, 3239.0, 2795.0]  \n",
       "0        10        1234.0  [4198.0, 4198.0, 4198.0]  \n",
       "0        10           NaN                       NaN  "
      ]
     },
     "execution_count": 3,
     "metadata": {},
     "output_type": "execute_result"
    }
   ],
   "source": [
    "df"
   ]
  },
  {
   "cell_type": "code",
   "execution_count": 4,
   "id": "8bc6f162-afae-4422-b982-40914a3a06de",
   "metadata": {},
   "outputs": [
    {
     "data": {
      "image/png": "[encoded data removed]",
      "text/plain": [
       "<Figure size 640x480 with 1 Axes>"
      ]
     },
     "metadata": {},
     "output_type": "display_data"
    }
   ],
   "source": [
    "def compare_algs_for_problem(df):\n",
    "    # plot values for each epoch\n",
    "    # ax  \n",
    "    fig, ax = plt.subplots()\n",
    "    for name, grp in df[['solver', 'epoch']].dropna().explode('epoch', ignore_index=True).groupby('solver'):\n",
    "        grp.epoch.plot(ax=ax, label=name)\n",
    "    \n",
    "    # plot results w/o epoch\n",
    "    for label, data in df[df.epoch.isna()].groupby('solver'):\n",
    "        ax.axhline(y=data.solution.min(), label=label, xmin=0, xmax=plt.xlim()[1], linestyle='--', color='red')\n",
    "    ax.legend()\n",
    "    fig.show()\n",
    "   \n",
    "compare_algs_for_problem(df[df.problem == 'taillard_ft_10'])"
   ]
  }
 ],
 "metadata": {
  "kernelspec": {
   "display_name": "Python 3 (ipykernel)",
   "language": "python",
   "name": "python3"
  },
  "language_info": {
   "codemirror_mode": {
    "name": "ipython",
    "version": 3
   },
   "file_extension": ".py",
   "mimetype": "text/x-python",
   "name": "python",
   "nbconvert_exporter": "python",
   "pygments_lexer": "ipython3",
   "version": "3.10.12"
  }
 },
 "nbformat": 4,
 "nbformat_minor": 5
}
